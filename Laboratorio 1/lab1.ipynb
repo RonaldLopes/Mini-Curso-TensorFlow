{
 "cells": [
  {
   "cell_type": "markdown",
   "metadata": {},
   "source": [
    "# Laboratório 1: Entendendo o funcionamento do Tensorflow"
   ]
  },
  {
   "cell_type": "markdown",
   "metadata": {},
   "source": [
    "Bem vindo ao laboratório 1 do Mini curso de TensorFlow, neste tutorial vamos aprender a estrutura base de funcionamento do TensorFlow.\n",
    "\n",
    "<img src=\"imgs/tf_logo_social.png\" width=\"500\">\n",
    "\n",
    "O TensorFlow é uma biblioteca de software de código aberto desenvolvida para a computação numérica usando grafos computacionais, originalmente desenvolvido pela Google Brain Team na organização de pesquisa Machine Intelligence do Google para aprendizado de máquina e pesquisa de redes neurais profundas. O nome da biblioteca ajuda a compreender a forma de se trabalhar com ela: \n",
    "\n",
    "> Basicamente o que temos são tensores (Tensor) que consistem em arrays multidimensionais que vão fluindo pelos nós de um grafo formando um fluxo (Flow). \n",
    "\n",
    "Portanto, todas as operações do TensorFlow são representadas na forma de grafos, onde essa estrutura, denominada de dataflow graph, que é composta pelos seguintes elementos:\n",
    "\n",
    "* **tf.Operation**: nó do grafo que consiste na representação de uma operação.\n",
    "* **tf.Tensor**: representa as unidades com os dados, uma saída de uma operação\n",
    "\n",
    "Diversos recursos desta biblioteca tornam o TensorFlow adequado para o desenvolvimento de aplicações que utilizam o Deep Learning, aprendizado de máquina e aplicações de Inteligência Artificial como o Processamento de Linguagem Natural e Visão Computacional. Qualquer computador pode executar o TensorFlow,, desde smartphones até clusters de computadores,  o que evidencia um de seus diferenciais que é sua rapidez em gerar um produto ou serviço a partir de um modelo treinado, eliminando o uso de hardware especializado, uma vez que o modelo já está treinado. "
   ]
  },
  {
   "cell_type": "markdown",
   "metadata": {},
   "source": [
    "## Componentes básicos"
   ]
  },
  {
   "cell_type": "markdown",
   "metadata": {},
   "source": [
    "O TensorFlow consiste no conjunto de duas APIs a **Low Level** e a **High level API**. Neste laboratório vamos focar apenas na parte da *Low Level API* para permitir o aprendizado mais profundo do funcionamento do TensorFlow, a partir do laboratório 2 vamos conhecer um pouco mais sobre a *High Level API* e construir aplicações mais complexas utilizando os recursos de alto nível que o TensorFlow oferece. \n",
    "\n",
    "Começamos com a definição de dados no TensorFlow que basicamente são uma representação n-dimensional de arrays que recebem o nome de Tensores. Um grafo, por sua vez, é composto por dados (Tensores) e operações matemáticas, onde sua estrutura  pode ser resumida basicamente em dois componentes:\n",
    "\n",
    "* **Nós do grafo**: representam as operações matemáticas.\n",
    "* **Borda do grafo**: representa os Tensores que seguem um fluxo entre as operações.\n",
    "\n",
    "Um Grafo no TensorFlow representa todas as computações que serão executadas seguindo um dado fluxo que foi definido na forma de um grafo. Para exemplificarmos, podemos supor um grafo que realiza a soma de duas variáveis (**X** e **Y**) que pode ser representado pela seguinte imagem:\n",
    "\n",
    "<img src=\"imgs/grafo1.png\" width=\"500\">\n",
    "    \n",
    "    \n",
    "Um grafo é basicamente constituído de tensores e operações, os tensores por sua vez podem ser de diversos tipos:\n",
    "\n",
    "* **Constantes**: são valores que não sofrem alteração. Sua declaração pode ser realizada pelo método *tf.constant()*;\n",
    "* **Variáveis**: armazenam diferentes tipos de valores, assim como as constantes, mas estes podem ser alterados. Sua criação se dá pelo método *tf.Variable()*, no entanto, elas necessitam ser inicializadas separadamente por meio de uma operação de inicialização que pode ser feita com o método *tf.initialize_all_variables()*.\n",
    "* **Placeholders**: consistem em espaços reservados que esperam ser inicializados e alimentados com dados. Geralmente são utilizados para treinamento de dados onde a alimentação é realizada somente durante uma sessão. Portanto, é uma pré definição do tipo de dado que deve ser aceito pela variável sem necessariamente o mesmo exista. Sua criação é feita pelo método *tf.placeholder()*. \n",
    "\n"
   ]
  },
  {
   "cell_type": "markdown",
   "metadata": {},
   "source": [
    "## Operações no TensorFlow"
   ]
  },
  {
   "cell_type": "markdown",
   "metadata": {},
   "source": [
    "As operações matemáticas podem ser realizadas de diversas formas conforme a necessidade, por exemplo, uma operação de adição pode ser realizada com o método *tf.add()*. Dessa forma, se faz necessário um estudo mais detalhado da documentação do próprio TensorFlow a fim de conhecer todas as opções de operações matemáticas disponíveis, abaixo você confere uma lista de algumas das operações disponíveis:\n",
    "\n",
    "* tf.add\n",
    "* tf.div\n",
    "* tf.divide\n",
    "* tf.maximum\n",
    "* tf.minimum\n",
    "* tf.multiply\n",
    "* tf.reduce_max\n",
    "* tf.reduce_min\n",
    "* tf.reduce_sum\n",
    "* tf.rsqrt\n",
    "* tf.sqrt\n",
    "* tf.square\n",
    "* tf.subtract\n"
   ]
  },
  {
   "cell_type": "markdown",
   "metadata": {},
   "source": [
    "## Criando nosso primeiro grafo"
   ]
  },
  {
   "cell_type": "markdown",
   "metadata": {},
   "source": [
    "Vamos começar criando um *dataflow graph* simples, exemplificando apenas a soma entre dois vetores. A estrutura do grafo pode ser exemplificada pela imagem a seguir:\n",
    "\n",
    "<img src=\"imgs/grafo1.png\" width=\"500\">\n",
    "\n",
    "\n",
    "Um grafo é basicamente constituído de Tensores e operações, e antes de se criar um grafo devemos definir esses dois componentes a fim de montar a estrutura base que irá compor o grafo. Primeiramente, vamos criar duas constantes que irão conter um vetor cada uma:\n",
    "\n"
   ]
  },
  {
   "cell_type": "code",
   "execution_count": null,
   "metadata": {},
   "outputs": [],
   "source": [
    "import tensorflow as tf\n",
    "\n",
    "x = tf.constant([1,2,3])\n",
    "\n",
    "y = tf.constant([4,5,6])"
   ]
  },
  {
   "cell_type": "markdown",
   "metadata": {},
   "source": [
    "É interessante observar que se tentarmos imprimir alguma das variáveis definidas, não iremos obter o vetor em si, mas sim um objeto do tipo tensor indicando que é uma constante com dimensão 3 e o tipo de valor que ele armazena que no nosso caso são valores inteiros:"
   ]
  },
  {
   "cell_type": "code",
   "execution_count": null,
   "metadata": {},
   "outputs": [],
   "source": [
    "print(y)"
   ]
  },
  {
   "cell_type": "markdown",
   "metadata": {},
   "source": [
    "O próximo passo é definirmos a operação que desejamos efetuar, e como desejamos efetuar uma soma, utilizaremos o método *add()* passando como parâmetros as constantes que farão parte dela:"
   ]
  },
  {
   "cell_type": "code",
   "execution_count": null,
   "metadata": {},
   "outputs": [],
   "source": [
    "soma = tf.add(x,y)"
   ]
  },
  {
   "cell_type": "markdown",
   "metadata": {},
   "source": [
    "Observe que a operação definida foi uma soma do conteúdo das variáveis **X** e **Y**, que correspondem às constantes definidas anteriormente. Neste ponto, todos os elementos necessários para o grafo estão definidos, mas ainda não foram executados e o que temos é uma definição em forma de grafo do fluxo a ser seguido pelos tensores. Apesar do TensorFlow gerar um grafo automaticamente a partir das definições desenvolvidas, vamos criar um outro grafo e armazená-lo na forma de variável para que possamos ter um melhor entendimento de nosso exemplo:\n"
   ]
  },
  {
   "cell_type": "code",
   "execution_count": null,
   "metadata": {},
   "outputs": [],
   "source": [
    "meuGrafo = tf.Graph()"
   ]
  },
  {
   "cell_type": "markdown",
   "metadata": {},
   "source": [
    "Após a criação do grafo e a definição das operações matemáticas e dos tensores, é necessário executá-lo, visto que a estrutura do grafo foi apenas definida. Um grafo é utilizado para definir a estrutura de operações, mas é apenas executado quando uma sessão é iniciada. Imagine um grafo como a planta de um prédio que só se transformará em um após a sua construção. Sendo assim, um grafo não possui nenhum valor armazenado a menos que o mesmo seja executado por meio de uma sessão. A sessão pode ser criada por meio do método *tf.Session()*, que encapsula o ambiente onde as operações do grafo serão executadas e avalia os tensores. Para iniciarmos a sessão precisamos executar o comando tf.Session(), passando como parâmetro o grafo que definimos anteriormente. A organização do nosso código também deve ser alterada. As constantes definidas deverão ficar dentro do bloco em que *tf.Session()* trabalha, junto da operação definida:"
   ]
  },
  {
   "cell_type": "code",
   "execution_count": null,
   "metadata": {},
   "outputs": [],
   "source": [
    "with tf.Session(graph=meuGrafo) as sessao:\n",
    "    x = tf.constant([1,2,3])\n",
    "    y = tf.constant([4,5,6])\n",
    "    soma = tf.add(x,y)\n",
    "    resultado = sessao.run(fetches=soma)\n",
    "    print(resultado)"
   ]
  },
  {
   "cell_type": "markdown",
   "metadata": {},
   "source": [
    "Observe no código acima que para executarmos o fluxo que os tensores deverão seguir, precisamos definir o ponto de partida por meio do método tf.Session().run(), onde o parâmetro a ser passado corresponde ao nó de início do fluxo que no nosso caso foi a definição da operação a ser executada que é referenciada como soma. Para visualizar o resultado, colocamos um print para imprimir o retorno de sessao.run() e o resultado foi impresso corretamente. "
   ]
  },
  {
   "cell_type": "markdown",
   "metadata": {},
   "source": [
    "## Considerações finais"
   ]
  },
  {
   "cell_type": "markdown",
   "metadata": {},
   "source": [
    "A API de baixo nível do TensorFlow nos permite construir aplicações que necessitam de um tratamento mais específico, não sendo recomendado para iniciantes na área. Seu uso é extremamente importante quando precisamos refinar o desempenho da rede, seja em otimizar o código ou até mesmo em dividir o processamento para ser executado paralelamente em um cluster por exemplo. Obrigado por concluir o primeiro laboratório prático do minicurso, espero que tenha gostado e no próximo laboratório vamos construir uma aplicação mais robusta com o uso da API de alto nível do TensorFlow."
   ]
  },
  {
   "cell_type": "code",
   "execution_count": null,
   "metadata": {},
   "outputs": [],
   "source": []
  }
 ],
 "metadata": {
  "kernelspec": {
   "display_name": "Python 3",
   "language": "python",
   "name": "python3"
  },
  "language_info": {
   "codemirror_mode": {
    "name": "ipython",
    "version": 3
   },
   "file_extension": ".py",
   "mimetype": "text/x-python",
   "name": "python",
   "nbconvert_exporter": "python",
   "pygments_lexer": "ipython3",
   "version": "3.7.4"
  }
 },
 "nbformat": 4,
 "nbformat_minor": 2
}
